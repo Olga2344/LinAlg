{
 "cells": [
  {
   "cell_type": "markdown",
   "id": "04f5c4cd",
   "metadata": {},
   "source": [
    "1. Напишите код, моделирующий выпадение поля в рулетке (с учетом поля зеро)."
   ]
  },
  {
   "cell_type": "code",
   "execution_count": 16,
   "id": "07be4d7a",
   "metadata": {},
   "outputs": [],
   "source": [
    "import random\n",
    "import numpy as np\n",
    "import matplotlib.pyplot as plt"
   ]
  },
  {
   "cell_type": "code",
   "execution_count": 7,
   "id": "41a88861",
   "metadata": {},
   "outputs": [
    {
     "name": "stdout",
     "output_type": "stream",
     "text": [
      "[-18, -8, -10, 13, -8, 11, 1, 4, 5, 14, -15, 12, 7, 12, -7, 16, 9, -13, -9, 0, -1, -18, -14, 3, -7, 8, -10, 5, -9, -18, 5, 11, -8, -3, -16, -16, -7, 16, 16, -1, -4, 6, -14, 13, -11, -1, -13, -2, 12, 16, 7, 13, -1, -9, -15, 0, 3, -2, 1, 14, 0, 10, 0, 15, -10, -10, 13, -9, -5, 9, -7, 7, -8, -4, 4, -18, 16, 14, 11, 15, 13, -14, 17, 18, 5, -6, -14, 13, -3, 6, -9, -5, 2, -17, -6, -9, -3, 11, -4, 5]\n"
     ]
    }
   ],
   "source": [
    "result_list=[]\n",
    "\n",
    "bet=100\n",
    "while bet!=0:\n",
    "    ball=random.randint(-18,18)\n",
    "    result_list.append(ball)\n",
    "    bet-=1\n",
    "    \n",
    "print(result_list)"
   ]
  },
  {
   "cell_type": "markdown",
   "id": "c5a75139",
   "metadata": {},
   "source": [
    "Напишите код, проверяющий любую из теорем сложения или умножения вероятности на примере рулетки или подбрасывания монетки."
   ]
  },
  {
   "cell_type": "code",
   "execution_count": 47,
   "id": "d4806b54",
   "metadata": {},
   "outputs": [
    {
     "name": "stdout",
     "output_type": "stream",
     "text": [
      "True\n",
      "43 49 8 100\n"
     ]
    }
   ],
   "source": [
    "r,b, z,l = 0, 0, 0,0\n",
    "n = 100\n",
    "for i in range(0, n):\n",
    "    x = np.random.randint(-18, 18)\n",
    "    l=l+1\n",
    "    if x==0:\n",
    "        z +=1\n",
    "    elif x>0:\n",
    "        r+=1\n",
    "    else:\n",
    "        b += 1\n",
    "if r+z+b==l:\n",
    "    print(True)\n",
    "else:\n",
    "    print(False)\n",
    "print(r,b,z,l)"
   ]
  },
  {
   "cell_type": "markdown",
   "id": "1487dba8",
   "metadata": {},
   "source": [
    "Сгенерируйте десять выборок случайных чисел х0, …, х9.\n",
    "и постройте гистограмму распределения случайной суммы  +х0+ …+ х 9. \n"
   ]
  },
  {
   "cell_type": "code",
   "execution_count": 25,
   "id": "fcb8d067",
   "metadata": {},
   "outputs": [],
   "source": [
    "rndm_lst=[random.randint(0,9) for i in range(10)]"
   ]
  },
  {
   "cell_type": "code",
   "execution_count": 26,
   "id": "7095ea50",
   "metadata": {},
   "outputs": [
    {
     "data": {
      "image/png": "[encoded data removed]",
      "text/plain": [
       "<Figure size 432x288 with 1 Axes>"
      ]
     },
     "metadata": {
      "needs_background": "light"
     },
     "output_type": "display_data"
    }
   ],
   "source": [
    "plt.hist(rndm_lst)\n",
    "plt.show()"
   ]
  },
  {
   "cell_type": "markdown",
   "id": "239eecc1",
   "metadata": {},
   "source": [
    "Дополните код Монте-Карло последовательности независимых испытаний расчетом соответствующих вероятностей (через биномиальное распределение) \n",
    "и сравните результаты"
   ]
  },
  {
   "cell_type": "code",
   "execution_count": 52,
   "id": "2d293031",
   "metadata": {},
   "outputs": [
    {
     "name": "stdout",
     "output_type": "stream",
     "text": [
      "394 1000 0.394\n"
     ]
    }
   ],
   "source": [
    "\n",
    "\n",
    "k = 0\n",
    "n = 1000\n",
    "a = np.random.randint(0, 2, n)\n",
    "b = np.random.randint(0, 2, n)\n",
    "c = np.random.randint(0, 2, n)\n",
    "d = np.random.randint(0, 2, n)\n",
    "x = a + b + c + d\n",
    "for i in range(0, n):\n",
    "    if x[i] == 2:\n",
    "        k = k + 1\n",
    "print(k, n, k/n)\n",
    "\n"
   ]
  },
  {
   "cell_type": "markdown",
   "id": "ec2f9906",
   "metadata": {},
   "source": [
    "Повторите расчеты биномиальных коэффициентов и вероятностей k успехов в последовательности из n независимых испытаний, взяв другие значения n и k.\n"
   ]
  },
  {
   "cell_type": "code",
   "execution_count": 53,
   "id": "72705b9b",
   "metadata": {},
   "outputs": [
    {
     "name": "stdout",
     "output_type": "stream",
     "text": [
      "331 1000 0.331\n"
     ]
    }
   ],
   "source": [
    "k = 0\n",
    "n = 1000\n",
    "a = np.random.randint(0, 2, n)\n",
    "b = np.random.randint(0, 2, n)\n",
    "c = np.random.randint(0, 2, n)\n",
    "d = np.random.randint(0, 2, n)\n",
    "e = np.random.randint(0, 2, n)\n",
    "x = a + b + c + d + e\n",
    "for i in range(0, n):\n",
    "    if x[i] == 3:\n",
    "        k = k + 1\n",
    "print(k, n, k/n)"
   ]
  },
  {
   "cell_type": "code",
   "execution_count": null,
   "id": "6d9c7f5a",
   "metadata": {},
   "outputs": [],
   "source": []
  }
 ],
 "metadata": {
  "kernelspec": {
   "display_name": "Python 3 (ipykernel)",
   "language": "python",
   "name": "python3"
  },
  "language_info": {
   "codemirror_mode": {
    "name": "ipython",
    "version": 3
   },
   "file_extension": ".py",
   "mimetype": "text/x-python",
   "name": "python",
   "nbconvert_exporter": "python",
   "pygments_lexer": "ipython3",
   "version": "3.9.7"
  }
 },
 "nbformat": 4,
 "nbformat_minor": 5
}
